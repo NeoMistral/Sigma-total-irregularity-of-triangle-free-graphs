{
 "cells": [
  {
   "cell_type": "markdown",
   "metadata": {},
   "source": [
    "### Mixed metaheuristic algorithm\n",
    "\n",
    "Z uporabo metahevrističnega algoritma preverjamo našo hipotezo o grafih z največjo sigma nepravilnostjo."
   ]
  },
  {
   "cell_type": "markdown",
   "metadata": {},
   "source": [
    "Ta algoritem je mešanica algoritmov SA in VNS"
   ]
  },
  {
   "cell_type": "code",
   "execution_count": 2,
   "metadata": {},
   "outputs": [],
   "source": [
    "# importing necessary libraries\n",
    "import random\n",
    "import math\n",
    "from itertools import combinations\n",
    "\n",
    "# function for generating random neighbour of graph G\n",
    "def random_neighbour(G, K):\n",
    "    # choose option ( delete, add)\n",
    "    options = [(0, 1), (1, 0), (1, 1), (2, 1), (1, 2), (2, 2)]\n",
    "    d, a = options[K]\n",
    "\n",
    "    # get node\n",
    "    N = G.vertices()[randrange(G.order())]\n",
    "\n",
    "    # remove d edges from n (if possible)\n",
    "    for f in range(d):\n",
    "        if len(G.neighbors(N)) != 0:\n",
    "            G.delete_edge(N, G.neighbors(N)[randrange(len(list(G.neighbors(N))))])\n",
    "    \n",
    "    # add up to a edges\n",
    "    k = 0 # max number of iterations counter\n",
    "    j = 0 # counter for number of added edges\n",
    "    while k < 8 and j < a:\n",
    "        k += 1\n",
    "        # new node\n",
    "        V = G.vertices()[randrange(G.order())]\n",
    "        if V == N or V in G.neighbors(N): # if node is N or is already connected to N, we skip it\n",
    "            continue\n",
    "        G.add_edge(N, V)\n",
    "        \n",
    "        # is triangle free\n",
    "        if G.triangles_count() != 0:\n",
    "            G.delete_edge(N, V) # if its not triangle free, we remove the edge that we added\n",
    "        else: \n",
    "            j += 1\n",
    "            continue\n",
    "\n",
    "    return G # we return random neighbour"
   ]
  },
  {
   "cell_type": "code",
   "execution_count": 3,
   "metadata": {},
   "outputs": [],
   "source": [
    "# sigma total irr, our f(s)\n",
    "def sigma_irr(G):\n",
    "    return sum((u - v) ** 2 for u, v in combinations(G.degree(), 2))"
   ]
  },
  {
   "cell_type": "code",
   "execution_count": 4,
   "metadata": {},
   "outputs": [],
   "source": [
    "# mix SA and VNS - main function(our inital solution, number of neighborhoods, \n",
    "# number of tweaks, max. it, initial temperature, factor for T. decay)\n",
    "def mix_SA_VNS(inital_G, k, m, max_iterations_without_improvement, T_0, alpha):\n",
    "    G = inital_G.copy() # set G\n",
    "    best = G.copy() # set current best\n",
    "    num_of_it_without_improvement = 0 # counter for iterations without improvement\n",
    "    T = T_0 # set initial temperature\n",
    "    current_sigma_total_irr = sigma_irr(G)  # sigma value for current graph\n",
    "\n",
    "    while num_of_it_without_improvement < max_iterations_without_improvement:\n",
    "        \n",
    "        # choose neighborhood\n",
    "        j = randrange(k)\n",
    "\n",
    "        # new solution m times\n",
    "        G_mod = random_neighbour(G, j)\n",
    "\n",
    "        for i in range(m-1):\n",
    "            G_mod_mod = random_neighbour(G, j) # additional option\n",
    "\n",
    "            # check if its better\n",
    "            if sigma_irr(G_mod_mod) > sigma_irr(G_mod):\n",
    "                G_mod = G_mod_mod.copy()\n",
    "\n",
    "        # check, whether its better\n",
    "        if sigma_irr(G_mod) > current_sigma_total_irr:\n",
    "            G = G_mod # if it's better, set as current\n",
    "            current_sigma_total_irr = sigma_irr(G) # update current sigma value\n",
    "            num_of_it_without_improvement = 0 # reset counter for i.w.i.\n",
    "\n",
    "        # choose worse option nonetheless with certain probability\n",
    "        else:\n",
    "            num_of_it_without_improvement += 1 # we didn't have improvement\n",
    "\n",
    "            # get probability with Boltzmann distribution\n",
    "            p = math.exp(-(current_sigma_total_irr - sigma_irr(G_mod)) / T)\n",
    "\n",
    "            \n",
    "            if random.random() < p: # accept change\n",
    "                G = G_mod\n",
    "                current_sigma_total_irr = sigma_irr(G)\n",
    "\n",
    "        # check if its better than current best\n",
    "        if sigma_irr(G) > sigma_irr(best):\n",
    "            best = G.copy()\n",
    "\n",
    "        # update Temperature\n",
    "        T = alpha * T\n",
    "        \n",
    "    return best, G # return best solution and last option"
   ]
  },
  {
   "cell_type": "markdown",
   "metadata": {},
   "source": [
    "### Pridobivanje prve rešitve"
   ]
  },
  {
   "cell_type": "code",
   "execution_count": 5,
   "metadata": {},
   "outputs": [],
   "source": [
    "# generate star graph with max sigma total irr. (in center there can be multiple vertices)\n",
    "def generate_max_sigma_star_graph(n):\n",
    "    \n",
    "    # generate star graph with or order n and c central vertices\n",
    "    def generate_star_graph(n, c):\n",
    "        graph = {} # dict. of neighbours\n",
    "        i = 0\n",
    "        for k in range(n): \n",
    "            i += 1\n",
    "            if i <= c: # if vertex is central, set outer vertices as neighbors\n",
    "                graph[k] = list(range(c, n))\n",
    "            else: # else vertex is outer, set central vertices as neighbors\n",
    "                graph[k] = list(range(c))\n",
    "        \n",
    "        return Graph(graph)\n",
    "\n",
    "\n",
    "    max_sigma = 0 # for keeping maximum sigma value\n",
    "    max_sigma_graphs = [] # list of graphs with maximum sigma value\n",
    "\n",
    "    # check all graphs, where number of central nodes varies\n",
    "    for c in range(1, round(n/2)):\n",
    "        G = generate_star_graph(n, c) # get star graph\n",
    "        sigma = sigma_irr(G) # get sigma value of star graph\n",
    "\n",
    "        if sigma > max_sigma: # update if its the best\n",
    "            max_sigma_graphs = [G]\n",
    "            max_sigma = sigma\n",
    "        elif sigma == max_sigma: # if equal, just append\n",
    "            max_sigma_graphs.append(G)\n",
    "    \n",
    "    return max_sigma_graphs # return all graphs with max sigma value"
   ]
  },
  {
   "cell_type": "markdown",
   "metadata": {},
   "source": [
    "### Poganjanje algoritmov - zaenkrat samo testiranje"
   ]
  },
  {
   "cell_type": "code",
   "execution_count": 6,
   "metadata": {},
   "outputs": [],
   "source": [
    "def raziskovanje_okolice(n, K, m, max_it, T_0, alpha):\n",
    "\n",
    "    # check if there is better solution for any orded\n",
    "    found_better_anywhere = False\n",
    "\n",
    "    for j in range(13, n+1):\n",
    "        found = False # check for better solution in this order\n",
    "        graphs_found = [] # keep count of better graphs\n",
    "\n",
    "        # make initial graph\n",
    "        initial_G = generate_max_sigma_star_graph(j)[0]\n",
    "        max_sigma = sigma_irr(initial_G)\n",
    "\n",
    "        # run metaheuristic method 1000 times\n",
    "        for i in range(50):\n",
    "            Best, G = mix_SA_VNS(initial_G, K, m, max_it, T_0, alpha)\n",
    "            if sigma_irr(Best) > max_sigma:\n",
    "                found = True\n",
    "                graphs_found.append(Best)\n",
    "\n",
    "        # print if better solution is found for thist order\n",
    "        if found == True:\n",
    "            found_better_anywhere = True\n",
    "            print(f\"{j} - FOUND BETTER!\")\n",
    "        else:\n",
    "            print(f\"{j} -False\")\n",
    "    \n",
    "    # print for all orders\n",
    "    if found_better_anywhere == True:\n",
    "        print(\"FOUND BETTER OPTION SOMEWHERE\")\n",
    "    else:\n",
    "        print(\"THEORY HOLDS\")"
   ]
  },
  {
   "cell_type": "code",
   "execution_count": 7,
   "metadata": {},
   "outputs": [
    {
     "name": "stderr",
     "output_type": "stream",
     "text": [
      "/tmp/ipykernel_34501/127543904.py:22: DeprecationWarning: the default rounding for rationals, currently `away`, will be changed to `even`.\n",
      "See https://github.com/sagemath/sage/issues/35473 for details.\n",
      "  for c in range(Integer(1), round(n/Integer(2))):\n"
     ]
    },
    {
     "name": "stdout",
     "output_type": "stream",
     "text": [
      "13 -False\n",
      "14 -False\n",
      "15 -False\n",
      "16 -False\n",
      "17 -False\n",
      "18 -False\n",
      "19 -False\n",
      "20 -False\n",
      "THEORY HOLDS\n"
     ]
    }
   ],
   "source": [
    "n = 20\n",
    "K = 6\n",
    "m = 5\n",
    "alpha = .6\n",
    "T_0 = 1000\n",
    "max_it = 5\n",
    "raziskovanje_okolice(n, K, m, max_it, T_0, alpha)"
   ]
  }
 ],
 "metadata": {
  "kernelspec": {
   "display_name": "SageMath 10.4",
   "language": "sage",
   "name": "sagemath"
  },
  "language_info": {
   "codemirror_mode": {
    "name": "ipython",
    "version": 3
   },
   "file_extension": ".py",
   "mimetype": "text/x-python",
   "name": "python",
   "nbconvert_exporter": "python",
   "pygments_lexer": "ipython3",
   "version": "3.9.18"
  }
 },
 "nbformat": 4,
 "nbformat_minor": 2
}
